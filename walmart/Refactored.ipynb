{
 "cells": [
  {
   "cell_type": "code",
   "execution_count": 2,
   "metadata": {
    "collapsed": false
   },
   "outputs": [
    {
     "name": "stderr",
     "output_type": "stream",
     "text": [
      "/Users/ngoc/.venv/lib/python2.7/site-packages/ipykernel/__main__.py:28: FutureWarning: the 'outtype' keyword is deprecated, use 'orient' instead\n"
     ]
    }
   ],
   "source": [
    "import pandas\n",
    "from sklearn import preprocessing\n",
    "# enc = preprocessing.LabelEncoder()\n",
    "# res = enc.fit(train['Weekday'])\n",
    "# print res.classes_\n",
    "from pandas import Series, DataFrame\n",
    "import pandas as pd\n",
    "import numpy as np\n",
    "from sklearn.feature_extraction import DictVectorizer\n",
    "\n",
    "def encode_onehot(df, cols):\n",
    "    \"\"\"\n",
    "    One-hot encoding is applied to columns specified in a pandas DataFrame.\n",
    "    \n",
    "    Modified from: https://gist.github.com/kljensen/5452382\n",
    "    \n",
    "    Details:\n",
    "    \n",
    "    http://en.wikipedia.org/wiki/One-hot\n",
    "    http://scikit-learn.org/stable/modules/generated/sklearn.preprocessing.OneHotEncoder.html\n",
    "    \n",
    "    @param df pandas DataFrame\n",
    "    @param cols a list of columns to encode\n",
    "    @return a DataFrame with one-hot encoding\n",
    "    \"\"\"\n",
    "    vec = DictVectorizer()\n",
    "    \n",
    "    vec_data = pd.DataFrame(vec.fit_transform(df[cols].to_dict(outtype='records')).toarray())\n",
    "    vec_data.columns = vec.get_feature_names()\n",
    "    vec_data.index = df.index\n",
    "    \n",
    "    df = df.drop(cols, axis=1)\n",
    "    df = df.join(vec_data)\n",
    "    return df\n",
    "\n",
    "train = pandas.read_csv('train.csv')\n",
    "\n",
    "def process_train_data(train):\n",
    "    train.drop('VisitNumber', 1)\n",
    "    df = encode_onehot(train, cols=['Weekday', 'DepartmentDescription'])\n",
    "    processed_df = DataFrame()\n",
    "\n",
    "    # One Hot Encoding for features\n",
    "    for k in df.keys():\n",
    "        if k.startswith('DepartmentDescription='):\n",
    "            processed_df[k] = df.groupby(['VisitNumber'])[k].sum()\n",
    "        if k.startswith('Weekday='):\n",
    "            processed_df[k] = df.groupby(['VisitNumber'])[k].max()\n",
    "\n",
    "    # Process all the class label to categorical values\n",
    "    train['TripTypeStr'] = train['TripType'].apply(str)\n",
    "    processed_train = encode_onehot(train, cols=['TripTypeStr'])\n",
    "    cols_rename = {}\n",
    "\n",
    "    for k in processed_train.keys():\n",
    "        if k.startswith('TripTypeStr='):\n",
    "            cols_rename[k] = k.replace('Str=', '_')\n",
    "    processed_train.rename(columns=cols_rename,inplace=True)\n",
    "\n",
    "    for k in processed_train.keys():\n",
    "        if k.startswith('TripType_'):\n",
    "            processed_df[k] = processed_train.groupby('VisitNumber')[k].sum()\n",
    "    return processed_df\n",
    "\n",
    "processed_df = process_train_data(train)"
   ]
  },
  {
   "cell_type": "code",
   "execution_count": 3,
   "metadata": {
    "collapsed": false
   },
   "outputs": [
    {
     "name": "stdout",
     "output_type": "stream",
     "text": [
      "Index([u'DepartmentDescription=1-HR PHOTO',\n",
      "       u'DepartmentDescription=ACCESSORIES',\n",
      "       u'DepartmentDescription=AUTOMOTIVE', u'DepartmentDescription=BAKERY',\n",
      "       u'DepartmentDescription=BATH AND SHOWER',\n",
      "       u'DepartmentDescription=BEAUTY', u'DepartmentDescription=BEDDING',\n",
      "       u'DepartmentDescription=BOOKS AND MAGAZINES',\n",
      "       u'DepartmentDescription=BOYS WEAR',\n",
      "       u'DepartmentDescription=BRAS & SHAPEWEAR',\n",
      "       ...\n",
      "       u'TripType_41', u'TripType_42', u'TripType_43', u'TripType_44',\n",
      "       u'TripType_5', u'TripType_6', u'TripType_7', u'TripType_8',\n",
      "       u'TripType_9', u'TripType_999'],\n",
      "      dtype='object', length=113)\n"
     ]
    }
   ],
   "source": [
    "print processed_df.keys()"
   ]
  },
  {
   "cell_type": "code",
   "execution_count": 4,
   "metadata": {
    "collapsed": false
   },
   "outputs": [
    {
     "name": "stderr",
     "output_type": "stream",
     "text": [
      "/Users/ngoc/.venv/lib/python2.7/site-packages/ipykernel/__main__.py:28: FutureWarning: the 'outtype' keyword is deprecated, use 'orient' instead\n"
     ]
    }
   ],
   "source": [
    "test = pandas.read_csv('test.csv')\n",
    "\n",
    "def process_test_data(test_data):\n",
    "    df = encode_onehot(train, cols=['Weekday', 'DepartmentDescription'])\n",
    "    processed_df = DataFrame()\n",
    "\n",
    "    # One Hot Encoding for features\n",
    "    for k in df.keys():\n",
    "        if k.startswith('DepartmentDescription='):\n",
    "            processed_df[k] = df.groupby(['VisitNumber'])[k].sum()\n",
    "        if k.startswith('Weekday='):\n",
    "            processed_df[k] = df.groupby(['VisitNumber'])[k].max()\n",
    "\n",
    "    return processed_df\n",
    "process_test_df = process_test_data(test)"
   ]
  },
  {
   "cell_type": "code",
   "execution_count": 4,
   "metadata": {
    "collapsed": false
   },
   "outputs": [
    {
     "name": "stdout",
     "output_type": "stream",
     "text": [
      "Index([u'DepartmentDescription=1-HR PHOTO',\n",
      "       u'DepartmentDescription=ACCESSORIES',\n",
      "       u'DepartmentDescription=AUTOMOTIVE', u'DepartmentDescription=BAKERY',\n",
      "       u'DepartmentDescription=BATH AND SHOWER',\n",
      "       u'DepartmentDescription=BEAUTY', u'DepartmentDescription=BEDDING',\n",
      "       u'DepartmentDescription=BOOKS AND MAGAZINES',\n",
      "       u'DepartmentDescription=BOYS WEAR',\n",
      "       u'DepartmentDescription=BRAS & SHAPEWEAR',\n",
      "       u'DepartmentDescription=CAMERAS AND SUPPLIES',\n",
      "       u'DepartmentDescription=CANDY, TOBACCO, COOKIES',\n",
      "       u'DepartmentDescription=CELEBRATION',\n",
      "       u'DepartmentDescription=COMM BREAD',\n",
      "       u'DepartmentDescription=CONCEPT STORES',\n",
      "       u'DepartmentDescription=COOK AND DINE', u'DepartmentDescription=DAIRY',\n",
      "       u'DepartmentDescription=DSD GROCERY',\n",
      "       u'DepartmentDescription=ELECTRONICS',\n",
      "       u'DepartmentDescription=FABRICS AND CRAFTS',\n",
      "       u'DepartmentDescription=FINANCIAL SERVICES',\n",
      "       u'DepartmentDescription=FROZEN FOODS',\n",
      "       u'DepartmentDescription=FURNITURE',\n",
      "       u'DepartmentDescription=GIRLS WEAR, 4-6X  AND 7-14',\n",
      "       u'DepartmentDescription=GROCERY DRY GOODS',\n",
      "       u'DepartmentDescription=HARDWARE',\n",
      "       u'DepartmentDescription=HEALTH AND BEAUTY AIDS',\n",
      "       u'DepartmentDescription=HOME DECOR',\n",
      "       u'DepartmentDescription=HOME MANAGEMENT',\n",
      "       u'DepartmentDescription=HORTICULTURE AND ACCESS',\n",
      "       u'DepartmentDescription=HOUSEHOLD CHEMICALS/SUPP',\n",
      "       u'DepartmentDescription=HOUSEHOLD PAPER GOODS',\n",
      "       u'DepartmentDescription=IMPULSE MERCHANDISE',\n",
      "       u'DepartmentDescription=INFANT APPAREL',\n",
      "       u'DepartmentDescription=INFANT CONSUMABLE HARDLINES',\n",
      "       u'DepartmentDescription=JEWELRY AND SUNGLASSES',\n",
      "       u'DepartmentDescription=LADIES SOCKS',\n",
      "       u'DepartmentDescription=LADIESWEAR',\n",
      "       u'DepartmentDescription=LARGE HOUSEHOLD GOODS',\n",
      "       u'DepartmentDescription=LAWN AND GARDEN',\n",
      "       u'DepartmentDescription=LIQUOR,WINE,BEER',\n",
      "       u'DepartmentDescription=MEAT - FRESH & FROZEN',\n",
      "       u'DepartmentDescription=MEDIA AND GAMING',\n",
      "       u'DepartmentDescription=MENS WEAR', u'DepartmentDescription=MENSWEAR',\n",
      "       u'DepartmentDescription=OFFICE SUPPLIES',\n",
      "       u'DepartmentDescription=OPTICAL - FRAMES',\n",
      "       u'DepartmentDescription=OPTICAL - LENSES',\n",
      "       u'DepartmentDescription=OTHER DEPARTMENTS',\n",
      "       u'DepartmentDescription=PAINT AND ACCESSORIES',\n",
      "       u'DepartmentDescription=PERSONAL CARE',\n",
      "       u'DepartmentDescription=PETS AND SUPPLIES',\n",
      "       u'DepartmentDescription=PHARMACY OTC',\n",
      "       u'DepartmentDescription=PHARMACY RX',\n",
      "       u'DepartmentDescription=PLAYERS AND ELECTRONICS',\n",
      "       u'DepartmentDescription=PLUS AND MATERNITY',\n",
      "       u'DepartmentDescription=PRE PACKED DELI',\n",
      "       u'DepartmentDescription=PRODUCE', u'DepartmentDescription=SEAFOOD',\n",
      "       u'DepartmentDescription=SEASONAL',\n",
      "       u'DepartmentDescription=SERVICE DELI',\n",
      "       u'DepartmentDescription=SHEER HOSIERY', u'DepartmentDescription=SHOES',\n",
      "       u'DepartmentDescription=SLEEPWEAR/FOUNDATIONS',\n",
      "       u'DepartmentDescription=SPORTING GOODS',\n",
      "       u'DepartmentDescription=SWIMWEAR/OUTERWEAR',\n",
      "       u'DepartmentDescription=TOYS', u'DepartmentDescription=WIRELESS',\n",
      "       u'Weekday=Friday', u'Weekday=Monday', u'Weekday=Saturday',\n",
      "       u'Weekday=Sunday', u'Weekday=Thursday', u'Weekday=Tuesday',\n",
      "       u'Weekday=Wednesday'],\n",
      "      dtype='object')\n"
     ]
    }
   ],
   "source": [
    "print process_test_df.keys()"
   ]
  },
  {
   "cell_type": "code",
   "execution_count": 5,
   "metadata": {
    "collapsed": false
   },
   "outputs": [],
   "source": [
    "targets = [k for k in processed_df.keys() if k.startswith('TripType_')]\n",
    "features = [k for k in processed_df.keys() if not k.startswith('TripType_') ]"
   ]
  },
  {
   "cell_type": "code",
   "execution_count": null,
   "metadata": {
    "collapsed": false
   },
   "outputs": [],
   "source": [
    "train_X = processed_df[features].as_matrix()\n",
    "print len(train_X['TripType_41'])\n",
    "# import xgboost\n",
    "# for k in processed_df.keys():\n",
    "#     train_y = processed_df['TripType_41'].as_matrix()\n",
    "#     gbm = xgboost.XGBClassifier(\n",
    "#         max_depth=3,\n",
    "#         n_estimators=300,\n",
    "#         learning_rate=0.05\n",
    "#     ).fit(train_X, train_y)"
   ]
  },
  {
   "cell_type": "code",
   "execution_count": 8,
   "metadata": {
    "collapsed": true
   },
   "outputs": [],
   "source": []
  },
  {
   "cell_type": "code",
   "execution_count": 10,
   "metadata": {
    "collapsed": false
   },
   "outputs": [
    {
     "ename": "ValueError",
     "evalue": "bad input shape (95674, 38)",
     "output_type": "error",
     "traceback": [
      "\u001b[0;31m---------------------------------------------------------------------------\u001b[0m",
      "\u001b[0;31mValueError\u001b[0m                                Traceback (most recent call last)",
      "\u001b[0;32m<ipython-input-10-7027a92ca071>\u001b[0m in \u001b[0;36m<module>\u001b[0;34m()\u001b[0m\n\u001b[1;32m      1\u001b[0m \u001b[0;32mimport\u001b[0m \u001b[0mxgboost\u001b[0m\u001b[0;34m\u001b[0m\u001b[0m\n\u001b[0;32m----> 2\u001b[0;31m \u001b[0mgbm\u001b[0m \u001b[0;34m=\u001b[0m \u001b[0mxgboost\u001b[0m\u001b[0;34m.\u001b[0m\u001b[0mXGBClassifier\u001b[0m\u001b[0;34m(\u001b[0m\u001b[0mmax_depth\u001b[0m\u001b[0;34m=\u001b[0m\u001b[0;36m3\u001b[0m\u001b[0;34m,\u001b[0m \u001b[0mn_estimators\u001b[0m\u001b[0;34m=\u001b[0m\u001b[0;36m300\u001b[0m\u001b[0;34m,\u001b[0m \u001b[0mlearning_rate\u001b[0m\u001b[0;34m=\u001b[0m\u001b[0;36m0.05\u001b[0m\u001b[0;34m)\u001b[0m\u001b[0;34m.\u001b[0m\u001b[0mfit\u001b[0m\u001b[0;34m(\u001b[0m\u001b[0mtrain_X\u001b[0m\u001b[0;34m,\u001b[0m \u001b[0mtrain_y\u001b[0m\u001b[0;34m)\u001b[0m\u001b[0;34m\u001b[0m\u001b[0m\n\u001b[0m\u001b[1;32m      3\u001b[0m \u001b[0;31m# predictions = gbm.predict(test_X)\u001b[0m\u001b[0;34m\u001b[0m\u001b[0;34m\u001b[0m\u001b[0m\n\u001b[1;32m      4\u001b[0m \u001b[0;31m# print predictions\u001b[0m\u001b[0;34m\u001b[0m\u001b[0;34m\u001b[0m\u001b[0m\n",
      "\u001b[0;32m/Users/ngoc/.venv/lib/python2.7/site-packages/xgboost/sklearn.pyc\u001b[0m in \u001b[0;36mfit\u001b[0;34m(self, X, y, sample_weight, eval_set, eval_metric, early_stopping_rounds, verbose)\u001b[0m\n\u001b[1;32m    327\u001b[0m             \u001b[0mevals\u001b[0m \u001b[0;34m=\u001b[0m \u001b[0;34m(\u001b[0m\u001b[0;34m)\u001b[0m\u001b[0;34m\u001b[0m\u001b[0m\n\u001b[1;32m    328\u001b[0m \u001b[0;34m\u001b[0m\u001b[0m\n\u001b[0;32m--> 329\u001b[0;31m         \u001b[0mself\u001b[0m\u001b[0;34m.\u001b[0m\u001b[0m_le\u001b[0m \u001b[0;34m=\u001b[0m \u001b[0mLabelEncoder\u001b[0m\u001b[0;34m(\u001b[0m\u001b[0;34m)\u001b[0m\u001b[0;34m.\u001b[0m\u001b[0mfit\u001b[0m\u001b[0;34m(\u001b[0m\u001b[0my\u001b[0m\u001b[0;34m)\u001b[0m\u001b[0;34m\u001b[0m\u001b[0m\n\u001b[0m\u001b[1;32m    330\u001b[0m         \u001b[0mtraining_labels\u001b[0m \u001b[0;34m=\u001b[0m \u001b[0mself\u001b[0m\u001b[0;34m.\u001b[0m\u001b[0m_le\u001b[0m\u001b[0;34m.\u001b[0m\u001b[0mtransform\u001b[0m\u001b[0;34m(\u001b[0m\u001b[0my\u001b[0m\u001b[0;34m)\u001b[0m\u001b[0;34m\u001b[0m\u001b[0m\n\u001b[1;32m    331\u001b[0m \u001b[0;34m\u001b[0m\u001b[0m\n",
      "\u001b[0;32m/Users/ngoc/.venv/lib/python2.7/site-packages/sklearn/preprocessing/label.pyc\u001b[0m in \u001b[0;36mfit\u001b[0;34m(self, y)\u001b[0m\n\u001b[1;32m    106\u001b[0m         \u001b[0mself\u001b[0m \u001b[0;34m:\u001b[0m \u001b[0mreturns\u001b[0m \u001b[0man\u001b[0m \u001b[0minstance\u001b[0m \u001b[0mof\u001b[0m \u001b[0mself\u001b[0m\u001b[0;34m.\u001b[0m\u001b[0;34m\u001b[0m\u001b[0m\n\u001b[1;32m    107\u001b[0m         \"\"\"\n\u001b[0;32m--> 108\u001b[0;31m         \u001b[0my\u001b[0m \u001b[0;34m=\u001b[0m \u001b[0mcolumn_or_1d\u001b[0m\u001b[0;34m(\u001b[0m\u001b[0my\u001b[0m\u001b[0;34m,\u001b[0m \u001b[0mwarn\u001b[0m\u001b[0;34m=\u001b[0m\u001b[0mTrue\u001b[0m\u001b[0;34m)\u001b[0m\u001b[0;34m\u001b[0m\u001b[0m\n\u001b[0m\u001b[1;32m    109\u001b[0m         \u001b[0m_check_numpy_unicode_bug\u001b[0m\u001b[0;34m(\u001b[0m\u001b[0my\u001b[0m\u001b[0;34m)\u001b[0m\u001b[0;34m\u001b[0m\u001b[0m\n\u001b[1;32m    110\u001b[0m         \u001b[0mself\u001b[0m\u001b[0;34m.\u001b[0m\u001b[0mclasses_\u001b[0m \u001b[0;34m=\u001b[0m \u001b[0mnp\u001b[0m\u001b[0;34m.\u001b[0m\u001b[0munique\u001b[0m\u001b[0;34m(\u001b[0m\u001b[0my\u001b[0m\u001b[0;34m)\u001b[0m\u001b[0;34m\u001b[0m\u001b[0m\n",
      "\u001b[0;32m/Users/ngoc/.venv/lib/python2.7/site-packages/sklearn/utils/validation.pyc\u001b[0m in \u001b[0;36mcolumn_or_1d\u001b[0;34m(y, warn)\u001b[0m\n\u001b[1;32m    549\u001b[0m         \u001b[0;32mreturn\u001b[0m \u001b[0mnp\u001b[0m\u001b[0;34m.\u001b[0m\u001b[0mravel\u001b[0m\u001b[0;34m(\u001b[0m\u001b[0my\u001b[0m\u001b[0;34m)\u001b[0m\u001b[0;34m\u001b[0m\u001b[0m\n\u001b[1;32m    550\u001b[0m \u001b[0;34m\u001b[0m\u001b[0m\n\u001b[0;32m--> 551\u001b[0;31m     \u001b[0;32mraise\u001b[0m \u001b[0mValueError\u001b[0m\u001b[0;34m(\u001b[0m\u001b[0;34m\"bad input shape {0}\"\u001b[0m\u001b[0;34m.\u001b[0m\u001b[0mformat\u001b[0m\u001b[0;34m(\u001b[0m\u001b[0mshape\u001b[0m\u001b[0;34m)\u001b[0m\u001b[0;34m)\u001b[0m\u001b[0;34m\u001b[0m\u001b[0m\n\u001b[0m\u001b[1;32m    552\u001b[0m \u001b[0;34m\u001b[0m\u001b[0m\n\u001b[1;32m    553\u001b[0m \u001b[0;34m\u001b[0m\u001b[0m\n",
      "\u001b[0;31mValueError\u001b[0m: bad input shape (95674, 38)"
     ]
    }
   ],
   "source": [
    "test_X = process_test_df[features].as_matrix()\n",
    "# predictions = gbm.predict(test_X)\n",
    "# print predictions"
   ]
  },
  {
   "cell_type": "code",
   "execution_count": null,
   "metadata": {
    "collapsed": true
   },
   "outputs": [],
   "source": []
  }
 ],
 "metadata": {
  "kernelspec": {
   "display_name": "Python 2",
   "language": "python",
   "name": "python2"
  },
  "language_info": {
   "codemirror_mode": {
    "name": "ipython",
    "version": 2
   },
   "file_extension": ".py",
   "mimetype": "text/x-python",
   "name": "python",
   "nbconvert_exporter": "python",
   "pygments_lexer": "ipython2",
   "version": "2.7.10"
  }
 },
 "nbformat": 4,
 "nbformat_minor": 0
}
