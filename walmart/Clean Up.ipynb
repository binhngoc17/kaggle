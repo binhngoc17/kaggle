{
 "cells": [
  {
   "cell_type": "code",
   "execution_count": 50,
   "metadata": {
    "collapsed": false
   },
   "outputs": [],
   "source": [
    "import pandas\n",
    "\n",
    "submission = pandas.read_csv('submission.csv')\n",
    "train_y = pandas.read_csv('train_y.csv')"
   ]
  },
  {
   "cell_type": "code",
   "execution_count": 51,
   "metadata": {
    "collapsed": false
   },
   "outputs": [],
   "source": [
    "from pandas import DataFrame\n",
    "cols = ['VisitNumber'] + sorted(submission.columns)[:-2]\n",
    "\n",
    "sample = pandas.read_csv('sample_submission.csv')\n",
    "new_df = DataFrame()\n",
    "for col in cols:\n",
    "    new_df[col] = submission[col].apply(int)\n",
    "\n",
    "new_df.to_csv('final_submission.csv', index=False)"
   ]
  },
  {
   "cell_type": "code",
   "execution_count": 18,
   "metadata": {
    "collapsed": false
   },
   "outputs": [
    {
     "name": "stdout",
     "output_type": "stream",
     "text": [
      "0        0\n",
      "1        0\n",
      "2        0\n",
      "3        0\n",
      "4        0\n",
      "5        0\n",
      "6        0\n",
      "7        0\n",
      "8        0\n",
      "9        0\n",
      "10       0\n",
      "11       1\n",
      "12       0\n",
      "13       0\n",
      "14       0\n",
      "15       0\n",
      "16       1\n",
      "17       0\n",
      "18       0\n",
      "19       0\n",
      "20       0\n",
      "21       0\n",
      "22       0\n",
      "23       0\n",
      "24       0\n",
      "25       0\n",
      "26       0\n",
      "27       1\n",
      "28       0\n",
      "29       0\n",
      "        ..\n",
      "95644    0\n",
      "95645    0\n",
      "95646    0\n",
      "95647    0\n",
      "95648    0\n",
      "95649    0\n",
      "95650    0\n",
      "95651    0\n",
      "95652    0\n",
      "95653    0\n",
      "95654    0\n",
      "95655    0\n",
      "95656    0\n",
      "95657    1\n",
      "95658    0\n",
      "95659    0\n",
      "95660    0\n",
      "95661    0\n",
      "95662    0\n",
      "95663    0\n",
      "95664    0\n",
      "95665    1\n",
      "95666    0\n",
      "95667    0\n",
      "95668    0\n",
      "95669    0\n",
      "95670    0\n",
      "95671    0\n",
      "95672    0\n",
      "95673    0\n",
      "Name: TripType_9, dtype: float64\n"
     ]
    }
   ],
   "source": []
  },
  {
   "cell_type": "code",
   "execution_count": null,
   "metadata": {
    "collapsed": true
   },
   "outputs": [],
   "source": []
  }
 ],
 "metadata": {
  "kernelspec": {
   "display_name": "Python 2",
   "language": "python",
   "name": "python2"
  },
  "language_info": {
   "codemirror_mode": {
    "name": "ipython",
    "version": 2
   },
   "file_extension": ".py",
   "mimetype": "text/x-python",
   "name": "python",
   "nbconvert_exporter": "python",
   "pygments_lexer": "ipython2",
   "version": "2.7.10"
  }
 },
 "nbformat": 4,
 "nbformat_minor": 0
}
